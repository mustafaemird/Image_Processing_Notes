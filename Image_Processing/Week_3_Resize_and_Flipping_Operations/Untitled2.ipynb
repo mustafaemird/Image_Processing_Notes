{
 "cells": [
  {
   "cell_type": "code",
   "execution_count": 1,
   "id": "a710ac02-72e5-486b-a5d6-418a008f7c0d",
   "metadata": {},
   "outputs": [],
   "source": [
    "import cv2\n",
    "import numpy as np"
   ]
  },
  {
   "cell_type": "code",
   "execution_count": 3,
   "id": "6da44936-32e8-4154-8830-f9a523958c11",
   "metadata": {},
   "outputs": [
    {
     "data": {
      "text/plain": [
       "(168, 300, 3)"
      ]
     },
     "execution_count": 3,
     "metadata": {},
     "output_type": "execute_result"
    }
   ],
   "source": [
    "my_img=cv2.imread(\"./emir.jpg\",1)\n",
    "my_img.shape"
   ]
  },
  {
   "cell_type": "code",
   "execution_count": 5,
   "id": "73887943-98d0-44ff-99ae-038d1e740afd",
   "metadata": {},
   "outputs": [],
   "source": [
    "cv2.imshow(\"Original Image\",my_img)\n",
    "cv2.waitKey(0)\n",
    "cv2.destroyAllWindows()"
   ]
  },
  {
   "cell_type": "code",
   "execution_count": 6,
   "id": "e937f77f-40b7-4aee-952d-c78dba6ca268",
   "metadata": {},
   "outputs": [],
   "source": [
    "vertical_img=cv2.flip(my_img,0)\n",
    "horizontal_img=cv2.flip(my_img,1)\n",
    "both_img=cv2.flip(my_img,-1)"
   ]
  },
  {
   "cell_type": "code",
   "execution_count": 20,
   "id": "302b2d5e-7bcb-4a02-b086-a1ca2d698425",
   "metadata": {},
   "outputs": [],
   "source": [
    "cv2.imshow(\"Original Image\",my_img)\n",
    "cv2.imshow(\"Vertical Image\",vertical_img)\n",
    "cv2.imshow(\"Horizontal Image\",horizontal_img)\n",
    "cv2.imshow(\"Vertical and Horizontal Image\",both_img)\n",
    "cv2.waitKey(0)\n",
    "cv2.destroyAllWindows()"
   ]
  },
  {
   "cell_type": "markdown",
   "id": "8af466b1-f8a5-49f0-8cf0-b29d54c921a8",
   "metadata": {},
   "source": [
    "type(my_img)"
   ]
  },
  {
   "cell_type": "code",
   "execution_count": 17,
   "id": "c4d9ce33-79b5-4ced-a3fe-b1363493db78",
   "metadata": {},
   "outputs": [],
   "source": [
    "new_vertical_img=my_img[::-1,:,:]\n",
    "new_horizontal_img=my_img[:,::-1,:]\n",
    "new_both_img=my_img[::-1,::-1,:]"
   ]
  },
  {
   "cell_type": "code",
   "execution_count": 22,
   "id": "66d093e6-76b5-42e8-a7ed-d15bfd92d634",
   "metadata": {},
   "outputs": [],
   "source": [
    "cv2.imshow(\"Original Image\",my_img)\n",
    "cv2.imshow(\"Vertical Image\",vertical_img)\n",
    "cv2.imshow(\"Horizontal Image\",horizontal_img)\n",
    "cv2.imshow(\"Vertical and Horizontal Image\",both_img)\n",
    "cv2.waitKey(0)\n",
    "cv2.destroyAllWindows()"
   ]
  },
  {
   "cell_type": "code",
   "execution_count": 34,
   "id": "a814d55e-84fe-415f-a5e2-4bde53cea659",
   "metadata": {},
   "outputs": [],
   "source": [
    "my_resized_img=cv2.resize(my_img,(456,234),cv2.INTER_LANCZOS4)\n",
    "cv2.imshow(\"Original Image\",my_img)\n",
    "cv2.imshow(\"Resized Image\",my_resized_img)\n",
    "cv2.waitKey(0)\n",
    "cv2.destroyAllWindows()"
   ]
  },
  {
   "cell_type": "code",
   "execution_count": 38,
   "id": "3275deb3-94dc-4a6c-ba7f-16c6e52ca622",
   "metadata": {},
   "outputs": [
    {
     "data": {
      "text/plain": [
       "True"
      ]
     },
     "execution_count": 38,
     "metadata": {},
     "output_type": "execute_result"
    }
   ],
   "source": [
    "cv2.imwrite(\"./resized_image_output.png\",my_resized_img)"
   ]
  },
  {
   "cell_type": "code",
   "execution_count": null,
   "id": "48fbfa91-d370-4b7d-bc5f-71f1efc0f9fa",
   "metadata": {},
   "outputs": [],
   "source": []
  }
 ],
 "metadata": {
  "kernelspec": {
   "display_name": "env_ybs",
   "language": "python",
   "name": "env_ybs"
  },
  "language_info": {
   "codemirror_mode": {
    "name": "ipython",
    "version": 3
   },
   "file_extension": ".py",
   "mimetype": "text/x-python",
   "name": "python",
   "nbconvert_exporter": "python",
   "pygments_lexer": "ipython3",
   "version": "3.10.10"
  }
 },
 "nbformat": 4,
 "nbformat_minor": 5
}
